{
 "cells": [
  {
   "cell_type": "code",
   "execution_count": 1,
   "metadata": {},
   "outputs": [
    {
     "data": {
      "application/javascript": [
       "\n",
       "require(['notebook/js/codecell'], function(codecell) {\n",
       "  codecell.CodeCell.options_default.highlight_modes[\n",
       "      'magic_text/x-csrc'] = {'reg':[/^%%microblaze/]};\n",
       "  Jupyter.notebook.events.one('kernel_ready.Kernel', function(){\n",
       "      Jupyter.notebook.get_cells().map(function(cell){\n",
       "          if (cell.cell_type == 'code'){ cell.auto_highlight(); } }) ;\n",
       "  });\n",
       "});\n"
      ]
     },
     "metadata": {},
     "output_type": "display_data"
    }
   ],
   "source": [
    "from pynq import Overlay\n",
    "from pynq import MMIO"
   ]
  },
  {
   "cell_type": "code",
   "execution_count": 2,
   "metadata": {},
   "outputs": [],
   "source": [
    "ol = Overlay(\"/home/xilinx/pynq/overlays/simple_overlay/design.bit\")\n",
    "ol.download()"
   ]
  },
  {
   "cell_type": "code",
   "execution_count": 3,
   "metadata": {},
   "outputs": [],
   "source": [
    "add_ip = MMIO(0x43C0_0000,0x10000)\n",
    " \n",
    "sub_ip = MMIO(0x43C1_0000,0x10000)"
   ]
  },
  {
   "cell_type": "code",
   "execution_count": 10,
   "metadata": {},
   "outputs": [
    {
     "name": "stdout",
     "output_type": "stream",
     "text": [
      "add a: 7\n",
      "add b: 12\n",
      "add y: 19\n"
     ]
    }
   ],
   "source": [
    "#Add\n",
    "#port a\n",
    "add_ip.write(0x10,7)\n",
    "print(\"add a:\",add_ip.read(0x10))\n",
    "#port b\n",
    "add_ip.write(0x18,12)\n",
    "print(\"add b:\",add_ip.read(0x18))\n",
    "\n",
    "#ap_start bit\n",
    "add_ip.write(0x00,1)\n",
    "\n",
    "#port y\n",
    "print(\"add y:\",add_ip.read(0x20))"
   ]
  },
  {
   "cell_type": "code",
   "execution_count": 12,
   "metadata": {},
   "outputs": [
    {
     "name": "stdout",
     "output_type": "stream",
     "text": [
      "add a: 12\n",
      "add b: 7\n",
      "sub y: 5\n"
     ]
    }
   ],
   "source": [
    "#Sub\n",
    "#port a\n",
    "sub_ip.write(0x10,12)\n",
    "print(\"add a:\",sub_ip.read(0x10))\n",
    "#port b\n",
    "sub_ip.write(0x18,7)\n",
    "print(\"add b:\",sub_ip.read(0x18))\n",
    "\n",
    "#ap_start bit\n",
    "sub_ip.write(0x00,1)\n",
    "\n",
    "#port y\n",
    "print(\"sub y:\",sub_ip.read(0x20))"
   ]
  },
  {
   "cell_type": "code",
   "execution_count": null,
   "metadata": {},
   "outputs": [],
   "source": []
  }
 ],
 "metadata": {
  "kernelspec": {
   "display_name": "Python 3",
   "language": "python",
   "name": "python3"
  },
  "language_info": {
   "codemirror_mode": {
    "name": "ipython",
    "version": 3
   },
   "file_extension": ".py",
   "mimetype": "text/x-python",
   "name": "python",
   "nbconvert_exporter": "python",
   "pygments_lexer": "ipython3",
   "version": "3.6.0"
  }
 },
 "nbformat": 4,
 "nbformat_minor": 2
}
